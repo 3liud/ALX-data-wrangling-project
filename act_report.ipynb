{
 "cells": [
  {
   "cell_type": "markdown",
   "metadata": {},
   "source": [
    "## Report: act_report\n",
    "* Create a **250-word-minimum written report** called \"act_report.pdf\" or \"act_report.html\" that communicates the insights and displays the visualization(s) produced from your wrangled data. This is to be framed as an external document, like a blog post or magazine article, for example."
   ]
  },
  {
   "cell_type": "markdown",
   "metadata": {},
   "source": [
    "Act_report\n",
    "After the wrangling, the following insights were drawn from the clean dataset. \n",
    "1. A majority of the dogs posted did not have their names provided. This might have been an error of omission or misspelling resulting in the name being changed to “no_name” in the wrangling process.\n",
    "\n",
    "2. Among the two 20 names for dogs provided, Charlie is the most common dog name in followed by cooper and lucy. However, this might have been different if the correct names for all dogs were provided in the dataset preventing me from changing the unidentified names to “no_names”.\n",
    "3. The most posted dogs by stage are Puppers with over 250 pets at that stage. However, the dataset was incomplete on the dog stages as majority of the dog stages were null values.\n",
    "\n",
    "4. The least posted dog by stage are Floofers with less than 25 posting.\n",
    "5. The highest rating numerator is 1776 and the lowest is 10 which means all dogs received a rating. The average rating numerator value is at 13 which means there is a huge range between the lowest rating and the highest with majority of the rating being closer to the minimum rating numerator. \n",
    "6. The highest retweet count (max) is 79515 and the lowest is 0. The average retweet is 1473. this means that majority of the posts were retweeted highly. \n",
    "7. The most likes on a post were 132810 and the average at 3603 which means there is a wide gap/ range between the most liked post and the least liked."
   ]
  }
 ],
 "metadata": {
  "kernelspec": {
   "display_name": "Python 3",
   "language": "python",
   "name": "python3"
  },
  "language_info": {
   "codemirror_mode": {
    "name": "ipython",
    "version": 3
   },
   "file_extension": ".py",
   "mimetype": "text/x-python",
   "name": "python",
   "nbconvert_exporter": "python",
   "pygments_lexer": "ipython3",
   "version": "3.6.3"
  }
 },
 "nbformat": 4,
 "nbformat_minor": 2
}
